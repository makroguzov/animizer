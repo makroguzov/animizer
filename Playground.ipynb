{
 "cells": [
  {
   "cell_type": "code",
   "execution_count": null,
   "id": "9ce4eb47",
   "metadata": {},
   "outputs": [],
   "source": []
  },
  {
   "cell_type": "code",
   "execution_count": 11,
   "id": "02bf8521",
   "metadata": {},
   "outputs": [],
   "source": [
    "import json\n",
    "import pprint"
   ]
  },
  {
   "cell_type": "code",
   "execution_count": 1,
   "id": "32caae5e",
   "metadata": {},
   "outputs": [],
   "source": [
    "DATA_PATH = './movies'"
   ]
  },
  {
   "cell_type": "code",
   "execution_count": 3,
   "id": "6dceac3e",
   "metadata": {},
   "outputs": [],
   "source": [
    "M_PATH = f'{DATA_PATH}/movies.json' #\n",
    "U_PATH = f'{DATA_PATH}/users'       # "
   ]
  },
  {
   "cell_type": "code",
   "execution_count": 7,
   "id": "2e9e0da7",
   "metadata": {},
   "outputs": [],
   "source": [
    "def import_movies(m_path):\n",
    "    \"\"\"Генератор фильмов. Возвращаю словарик с фильмами\"\"\"\n",
    "    with open(m_path, 'r', encoding='utf-8') as f:\n",
    "        data = f.read()\n",
    "        for movie in json.loads(data).values():\n",
    "            yield {\n",
    "                'id': movie['id'],\n",
    "                'name': movie['name'],\n",
    "                'russian': movie['russian'],\n",
    "                'score': movie['score'],\n",
    "                'description': movie['description'],\n",
    "                'genres': movie['genres']\n",
    "            }"
   ]
  },
  {
   "cell_type": "code",
   "execution_count": 19,
   "id": "e62fdf84",
   "metadata": {},
   "outputs": [],
   "source": [
    "def collect_generes(movies):\n",
    "    \"\"\"Генератор собирающий все жанры по фильмам\"\"\"\n",
    "    genre_ids = set()\n",
    "    for movie in movies:\n",
    "        for genre in movie['genres']:\n",
    "            if genre['id'] in genre_ids:\n",
    "                continue\n",
    "            else:\n",
    "                genre_ids.add(genre['id'])\n",
    "                yield genre"
   ]
  },
  {
   "cell_type": "code",
   "execution_count": 28,
   "id": "ce85b932",
   "metadata": {},
   "outputs": [],
   "source": [
    "MOVIES = list(import_movies(M_PATH))\n",
    "GENRES = list(collect_generes(MOVIES))"
   ]
  },
  {
   "cell_type": "code",
   "execution_count": 29,
   "id": "96479ba9",
   "metadata": {},
   "outputs": [
    {
     "name": "stdout",
     "output_type": "stream",
     "text": [
      "\n",
      "\n",
      "Пример первых двух фильмов: \n",
      "\n",
      "[{'description': 'Люк фон Фабр, избалованный отпрыск благородных кровей '\n",
      "                 'королевства Кимласка, был похищен семь лет назад враждебной '\n",
      "                 'империей Малькут. После освобождения он потерял память обо '\n",
      "                 'всём, что было раньше, и начал слышать призывы странного '\n",
      "                 'голоса, который больше не слышит никто.\\r\\n'\n",
      "                 'Однажды, во время тренировки с наставником Ваном Грантсом '\n",
      "                 '[ヴァン・グランツ], загадочная женщина, назвавшаяся Тир [ティア・グランツ], '\n",
      "                 'врывается в особняк с единственной целью — отнять у Вана '\n",
      "                 'жизнь. Начинается схватка, во время которой Люка вместе с '\n",
      "                 'Тир переносит за сотни миль от дома.\\r\\n'\n",
      "                 'Теперь, когда Люк наконец-то обрёл свободу, о которой давно '\n",
      "                 'мечтал, его встречает большой открытый мир, путешествуя по '\n",
      "                 'которому Люку [ルーク・フォン・ファブレ] предстоит опровергнуть всё, что '\n",
      "                 'он знал о себе самом.',\n",
      "  'genres': [{'id': 2,\n",
      "              'kind': 'anime',\n",
      "              'name': 'Adventure',\n",
      "              'russian': 'Приключения'},\n",
      "             {'id': 8, 'kind': 'anime', 'name': 'Drama', 'russian': 'Драма'},\n",
      "             {'id': 10,\n",
      "              'kind': 'anime',\n",
      "              'name': 'Fantasy',\n",
      "              'russian': 'Фэнтези'}],\n",
      "  'id': 4884,\n",
      "  'name': 'Tales of the Abyss',\n",
      "  'russian': 'Сказания Бездны',\n",
      "  'score': '7.29'},\n",
      " {'description': 'Действие происходит на острове Роккэнджима, принадлежащем '\n",
      "                 'очень богатому семейству [[Уширомия]]. По обычаю, все члены '\n",
      "                 'семьи собираются на этом острове, дабы обсудить текущее '\n",
      "                 'финансовое состояние дел в семье. Из-за слабого здоровья '\n",
      "                 'главы семьи, Кинзо Уширомии [右代宮 金蔵], в этом году, помимо '\n",
      "                 'привычных дел, будут также обсуждаться вопросы распределения '\n",
      "                 'будущего наследства.\\r\\n'\n",
      "                 'Впрочем, прибывшее на остров семейство даже не догадывается, '\n",
      "                 'что распределение наследства — это последнее, о чём сейчас '\n",
      "                 'думает глава. После сообщения от своего лечащего врача, а по '\n",
      "                 'совместительству и старого друга, о том, что его дни '\n",
      "                 'подходят к концу, Кинзо отчаянно пытается ещё хоть раз '\n",
      "                 'увидеться с любовью всей своей жизни, Золотой Ведьмой '\n",
      "                 'Беатриче [ベアトリーチェ]. Потратив последние несколько лет на '\n",
      "                 'изучение чёрной магии, по прибытии семьи на остров, Кинзо '\n",
      "                 'начинает церемонию по оживлению своей возлюбленной.\\r\\n'\n",
      "                 'На следующий день сильный тайфун отрезает семейство от '\n",
      "                 'внешнего мира, и начинается серия таинственных убийств, '\n",
      "                 'вынудившая восемнадцать членов семьи, застрявших на острове, '\n",
      "                 'сражаться за свои жизни в смертельном противостоянии между '\n",
      "                 'вымыслом и реальностью.',\n",
      "  'genres': [{'id': 14, 'kind': 'anime', 'name': 'Horror', 'russian': 'Ужасы'},\n",
      "             {'id': 7,\n",
      "              'kind': 'anime',\n",
      "              'name': 'Mystery',\n",
      "              'russian': 'Детектив'},\n",
      "             {'id': 37,\n",
      "              'kind': 'anime',\n",
      "              'name': 'Supernatural',\n",
      "              'russian': 'Сверхъестественное'},\n",
      "             {'id': 40,\n",
      "              'kind': 'anime',\n",
      "              'name': 'Psychological',\n",
      "              'russian': 'Психологическое'}],\n",
      "  'id': 4896,\n",
      "  'name': 'Umineko no Naku Koro ni',\n",
      "  'russian': 'Когда плачут чайки',\n",
      "  'score': '7.09'}]\n",
      "\n",
      "\n",
      "Пример первых двух жанров: \n",
      "\n",
      "[{'id': 2, 'kind': 'anime', 'name': 'Adventure', 'russian': 'Приключения'},\n",
      " {'id': 8, 'kind': 'anime', 'name': 'Drama', 'russian': 'Драма'}]\n"
     ]
    }
   ],
   "source": [
    "print()\n",
    "print()\n",
    "print('Пример первых двух фильмов:', '\\n')\n",
    "pprint.pprint(MOVIES[:2])\n",
    "print()\n",
    "print()\n",
    "print('Пример первых двух жанров:', '\\n')\n",
    "pprint.pprint(GENRES[:2])"
   ]
  },
  {
   "cell_type": "code",
   "execution_count": null,
   "id": "dea85934",
   "metadata": {},
   "outputs": [],
   "source": [
    "    "
   ]
  }
 ],
 "metadata": {
  "kernelspec": {
   "display_name": "Python 3 (ipykernel)",
   "language": "python",
   "name": "python3"
  },
  "language_info": {
   "codemirror_mode": {
    "name": "ipython",
    "version": 3
   },
   "file_extension": ".py",
   "mimetype": "text/x-python",
   "name": "python",
   "nbconvert_exporter": "python",
   "pygments_lexer": "ipython3",
   "version": "3.11.0"
  }
 },
 "nbformat": 4,
 "nbformat_minor": 5
}
