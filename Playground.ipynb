{
 "cells": [
  {
   "cell_type": "code",
   "execution_count": 1,
   "id": "32caae5e",
   "metadata": {},
   "outputs": [],
   "source": [
    "DATA_PATH = './movies'"
   ]
  },
  {
   "cell_type": "code",
   "execution_count": 3,
   "id": "f62894cc",
   "metadata": {},
   "outputs": [],
   "source": [
    "M_PATH = f'{DATA_PATH}/movies.json' #\n",
    "U_PATH = f'{DATA_PATH}/users'       # "
   ]
  },
  {
   "cell_type": "code",
   "execution_count": null,
   "id": "21d8e560",
   "metadata": {},
   "outputs": [],
   "source": []
  }
 ],
 "metadata": {
  "kernelspec": {
   "display_name": "Python 3 (ipykernel)",
   "language": "python",
   "name": "python3"
  },
  "language_info": {
   "codemirror_mode": {
    "name": "ipython",
    "version": 3
   },
   "file_extension": ".py",
   "mimetype": "text/x-python",
   "name": "python",
   "nbconvert_exporter": "python",
   "pygments_lexer": "ipython3",
   "version": "3.11.0"
  }
 },
 "nbformat": 4,
 "nbformat_minor": 5
}
