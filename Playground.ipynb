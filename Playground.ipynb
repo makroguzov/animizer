{
 "cells": [
  {
   "cell_type": "code",
   "execution_count": 1,
   "id": "9ce4eb47",
   "metadata": {},
   "outputs": [
    {
     "name": "stdout",
     "output_type": "stream",
     "text": [
      "pip 22.3.1 from /Users/makroguzov/Desktop/posos/.venv/lib/python3.10/site-packages/pip (python 3.10)\r\n"
     ]
    }
   ],
   "source": [
    "! pip -V"
   ]
  },
  {
   "cell_type": "code",
   "execution_count": 17,
   "id": "6d7b298b",
   "metadata": {},
   "outputs": [
    {
     "name": "stdout",
     "output_type": "stream",
     "text": [
      "Requirement already satisfied: keras in ./.venv/lib/python3.10/site-packages (2.11.0)\n",
      "Requirement already satisfied: scikit-learn in ./.venv/lib/python3.10/site-packages (1.1.3)\n",
      "Requirement already satisfied: joblib>=1.0.0 in ./.venv/lib/python3.10/site-packages (from scikit-learn) (1.2.0)\n",
      "Requirement already satisfied: numpy>=1.17.3 in ./.venv/lib/python3.10/site-packages (from scikit-learn) (1.23.5)\n",
      "Requirement already satisfied: scipy>=1.3.2 in ./.venv/lib/python3.10/site-packages (from scikit-learn) (1.9.3)\n",
      "Requirement already satisfied: threadpoolctl>=2.0.0 in ./.venv/lib/python3.10/site-packages (from scikit-learn) (3.1.0)\n",
      "Collecting pandas\n",
      "  Downloading pandas-1.5.2-cp310-cp310-macosx_11_0_arm64.whl (10.8 MB)\n",
      "\u001b[2K     \u001b[90m━━━━━━━━━━━━━━━━━━━━━━━━━━━━━━━━━━━━━━━━\u001b[0m \u001b[32m10.8/10.8 MB\u001b[0m \u001b[31m4.5 MB/s\u001b[0m eta \u001b[36m0:00:00\u001b[0m00:01\u001b[0m00:01\u001b[0m\n",
      "\u001b[?25hRequirement already satisfied: numpy>=1.21.0 in ./.venv/lib/python3.10/site-packages (from pandas) (1.23.5)\n",
      "Collecting pytz>=2020.1\n",
      "  Downloading pytz-2022.6-py2.py3-none-any.whl (498 kB)\n",
      "\u001b[2K     \u001b[90m━━━━━━━━━━━━━━━━━━━━━━━━━━━━━━━━━━━━━━━\u001b[0m \u001b[32m498.1/498.1 kB\u001b[0m \u001b[31m3.1 MB/s\u001b[0m eta \u001b[36m0:00:00\u001b[0ma \u001b[36m0:00:01\u001b[0m\n",
      "\u001b[?25hRequirement already satisfied: python-dateutil>=2.8.1 in ./.venv/lib/python3.10/site-packages (from pandas) (2.8.2)\n",
      "Requirement already satisfied: six>=1.5 in ./.venv/lib/python3.10/site-packages (from python-dateutil>=2.8.1->pandas) (1.16.0)\n",
      "Installing collected packages: pytz, pandas\n",
      "Successfully installed pandas-1.5.2 pytz-2022.6\n"
     ]
    }
   ],
   "source": [
    "! pip install keras\n",
    "! pip install scikit-learn\n",
    "! pip install pandas"
   ]
  },
  {
   "cell_type": "code",
   "execution_count": 19,
   "id": "02bf8521",
   "metadata": {},
   "outputs": [],
   "source": [
    "import json\n",
    "import pprint\n",
    "import pandas as pd"
   ]
  },
  {
   "cell_type": "code",
   "execution_count": 4,
   "id": "32caae5e",
   "metadata": {},
   "outputs": [],
   "source": [
    "DATA_PATH = './movies'"
   ]
  },
  {
   "cell_type": "code",
   "execution_count": 5,
   "id": "6dceac3e",
   "metadata": {},
   "outputs": [],
   "source": [
    "M_PATH = f'{DATA_PATH}/movies.json' #\n",
    "U_PATH = f'{DATA_PATH}/users'       # "
   ]
  },
  {
   "cell_type": "code",
   "execution_count": 6,
   "id": "2e9e0da7",
   "metadata": {},
   "outputs": [],
   "source": [
    "def import_movies(m_path):\n",
    "    \"\"\"Генератор фильмов. Возвращаю словарик с фильмами\"\"\"\n",
    "    with open(m_path, 'r', encoding='utf-8') as f:\n",
    "        data = f.read()\n",
    "        for movie in json.loads(data).values():\n",
    "            yield {\n",
    "                'id': movie['id'],\n",
    "                'name': movie['name'],\n",
    "                'russian': movie['russian'],\n",
    "                'score': movie['score'],\n",
    "                'description': movie['description'],\n",
    "            }"
   ]
  },
  {
   "cell_type": "code",
   "execution_count": 31,
   "id": "e62fdf84",
   "metadata": {},
   "outputs": [],
   "source": [
    "def import_genres(m_path):\n",
    "    \"\"\"Генератор собирающий все жанры по фильмам\"\"\"\n",
    "    with open(m_path, 'r', encoding='utf-8') as f:\n",
    "        data = f.read()\n",
    "        for movie in json.loads(data).values():\n",
    "            for genre in movie['genres']:\n",
    "                genre['moview_id'] = movie['id']\n",
    "                yield genre"
   ]
  },
  {
   "cell_type": "code",
   "execution_count": 32,
   "id": "ce85b932",
   "metadata": {},
   "outputs": [
    {
     "name": "stdout",
     "output_type": "stream",
     "text": [
      "[{'id': 2, 'name': 'Adventure', 'russian': 'Приключения', 'kind': 'anime', 'moview_id': 4884}, {'id': 8, 'name': 'Drama', 'russian': 'Драма', 'kind': 'anime', 'moview_id': 4884}, {'id': 10, 'name': 'Fantasy', 'russian': 'Фэнтези', 'kind': 'anime', 'moview_id': 4884}]\n"
     ]
    }
   ],
   "source": [
    "MOVIES = pd.DataFrame(list(import_movies(M_PATH)))\n",
    "\n",
    "print(list(import_genres(M_PATH))[:3])\n",
    "\n",
    "GENRES = pd.DataFrame()"
   ]
  },
  {
   "cell_type": "code",
   "execution_count": 23,
   "id": "96479ba9",
   "metadata": {},
   "outputs": [
    {
     "data": {
      "text/html": [
       "<div>\n",
       "<style scoped>\n",
       "    .dataframe tbody tr th:only-of-type {\n",
       "        vertical-align: middle;\n",
       "    }\n",
       "\n",
       "    .dataframe tbody tr th {\n",
       "        vertical-align: top;\n",
       "    }\n",
       "\n",
       "    .dataframe thead th {\n",
       "        text-align: right;\n",
       "    }\n",
       "</style>\n",
       "<table border=\"1\" class=\"dataframe\">\n",
       "  <thead>\n",
       "    <tr style=\"text-align: right;\">\n",
       "      <th></th>\n",
       "      <th>id</th>\n",
       "      <th>name</th>\n",
       "      <th>russian</th>\n",
       "      <th>score</th>\n",
       "      <th>description</th>\n",
       "      <th>genres</th>\n",
       "    </tr>\n",
       "  </thead>\n",
       "  <tbody>\n",
       "    <tr>\n",
       "      <th>0</th>\n",
       "      <td>4884</td>\n",
       "      <td>Tales of the Abyss</td>\n",
       "      <td>Сказания Бездны</td>\n",
       "      <td>7.29</td>\n",
       "      <td>Люк фон Фабр, избалованный отпрыск благородных...</td>\n",
       "      <td>[{'id': 2, 'name': 'Adventure', 'russian': 'Пр...</td>\n",
       "    </tr>\n",
       "    <tr>\n",
       "      <th>1</th>\n",
       "      <td>4896</td>\n",
       "      <td>Umineko no Naku Koro ni</td>\n",
       "      <td>Когда плачут чайки</td>\n",
       "      <td>7.09</td>\n",
       "      <td>Действие происходит на острове Роккэнджима, пр...</td>\n",
       "      <td>[{'id': 14, 'name': 'Horror', 'russian': 'Ужас...</td>\n",
       "    </tr>\n",
       "    <tr>\n",
       "      <th>2</th>\n",
       "      <td>4898</td>\n",
       "      <td>Kuroshitsuji</td>\n",
       "      <td>Тёмный дворецкий</td>\n",
       "      <td>7.7</td>\n",
       "      <td>События происходят в Англии викторианской эпох...</td>\n",
       "      <td>[{'id': 27, 'name': 'Shounen', 'russian': 'Сён...</td>\n",
       "    </tr>\n",
       "  </tbody>\n",
       "</table>\n",
       "</div>"
      ],
      "text/plain": [
       "     id                     name             russian score  \\\n",
       "0  4884       Tales of the Abyss     Сказания Бездны  7.29   \n",
       "1  4896  Umineko no Naku Koro ni  Когда плачут чайки  7.09   \n",
       "2  4898             Kuroshitsuji    Тёмный дворецкий   7.7   \n",
       "\n",
       "                                         description  \\\n",
       "0  Люк фон Фабр, избалованный отпрыск благородных...   \n",
       "1  Действие происходит на острове Роккэнджима, пр...   \n",
       "2  События происходят в Англии викторианской эпох...   \n",
       "\n",
       "                                              genres  \n",
       "0  [{'id': 2, 'name': 'Adventure', 'russian': 'Пр...  \n",
       "1  [{'id': 14, 'name': 'Horror', 'russian': 'Ужас...  \n",
       "2  [{'id': 27, 'name': 'Shounen', 'russian': 'Сён...  "
      ]
     },
     "execution_count": 23,
     "metadata": {},
     "output_type": "execute_result"
    }
   ],
   "source": [
    "MOVIES.head(3)\n",
    "# print()\n",
    "# print()\n",
    "# print('Пример первых двух фильмов:', '\\n')\n",
    "# pprint.pprint(MOVIES[:2])\n",
    "# print()\n",
    "# print()\n",
    "# print('Пример первых двух жанров:', '\\n')\n",
    "# pprint.pprint(GENRES[:2])"
   ]
  },
  {
   "cell_type": "code",
   "execution_count": null,
   "id": "113aefa0",
   "metadata": {},
   "outputs": [],
   "source": [
    "def vectorize():\n",
    "    "
   ]
  }
 ],
 "metadata": {
  "kernelspec": {
   "display_name": "Python 3 (ipykernel)",
   "language": "python",
   "name": "python3"
  },
  "language_info": {
   "codemirror_mode": {
    "name": "ipython",
    "version": 3
   },
   "file_extension": ".py",
   "mimetype": "text/x-python",
   "name": "python",
   "nbconvert_exporter": "python",
   "pygments_lexer": "ipython3",
   "version": "3.10.8"
  }
 },
 "nbformat": 4,
 "nbformat_minor": 5
}
